{
 "cells": [
  {
   "cell_type": "markdown",
   "metadata": {
    "application/vnd.databricks.v1+cell": {
     "cellMetadata": {
      "byteLimit": 2048000,
      "rowLimit": 10000
     },
     "inputWidgets": {},
     "nuid": "d2622977-0867-47f7-ac56-81021bf713de",
     "showTitle": false,
     "title": ""
    }
   },
   "source": [
    "1) Loading Dataset"
   ]
  },
  {
   "cell_type": "code",
   "execution_count": 0,
   "metadata": {
    "application/vnd.databricks.v1+cell": {
     "cellMetadata": {
      "byteLimit": 2048000,
      "rowLimit": 10000
     },
     "inputWidgets": {},
     "nuid": "9d2f6124-7cce-40db-8fe7-15e8a5424efe",
     "showTitle": false,
     "title": ""
    }
   },
   "outputs": [],
   "source": [
    "df1 = spark.read.format(\"csv\").option(\"header\", \"true\").load(\"dbfs:/FileStore/shared_uploads/shradz2011@outlook.com/case.csv\")\n",
    "df2= spark.read.format(\"csv\").option(\"header\", \"true\").load(\"dbfs:/FileStore/shared_uploads/shradz2011@outlook.com/patient-1.csv\")"
   ]
  },
  {
   "cell_type": "markdown",
   "metadata": {
    "application/vnd.databricks.v1+cell": {
     "cellMetadata": {
      "byteLimit": 2048000,
      "rowLimit": 10000
     },
     "inputWidgets": {},
     "nuid": "784a04db-320c-4cca-a6d1-1fad887c208c",
     "showTitle": false,
     "title": ""
    }
   },
   "source": [
    "2) Displaying dataframe and exploring it"
   ]
  },
  {
   "cell_type": "code",
   "execution_count": 0,
   "metadata": {
    "application/vnd.databricks.v1+cell": {
     "cellMetadata": {
      "byteLimit": 2048000,
      "rowLimit": 10000
     },
     "inputWidgets": {},
     "nuid": "8870ae35-2bc4-4264-9641-396355d16c5e",
     "showTitle": false,
     "title": ""
    }
   },
   "outputs": [
    {
     "output_type": "stream",
     "name": "stdout",
     "output_type": "stream",
     "text": [
      "+-------+--------+---------------+-----+--------------------+---------+---------+----------+\n|case_id|province|           city|group|      infection_case|confirmed| latitude| longitude|\n+-------+--------+---------------+-----+--------------------+---------+---------+----------+\n|      1|   Seoul|        Guro-gu| TRUE| Guro-gu Call Center|       70|37.508163|126.884387|\n|      2|   Seoul|   Eunpyeong-gu| TRUE|Eunpyeong St. Mar...|       14| 37.63369|  126.9165|\n|      3|   Seoul|   Seongdong-gu| TRUE|    Seongdong-gu APT|       13| 37.55713|  127.0403|\n|      4|   Seoul|      Jongno-gu| TRUE|Jongno Community ...|       10| 37.57681|   127.006|\n|      5|   Seoul|  Dongdaemun-gu| TRUE|       Dongan Church|        9|37.592888|127.056766|\n|      6|   Seoul|        Jung-gu| TRUE|Jung-gu Fashion C...|        7|37.562405|126.984377|\n|      7|   Seoul|from other city| TRUE|  Shincheonji Church|        6|        -|         -|\n|      8|   Seoul|              -|FALSE|                 etc|       46|        -|         -|\n|      9|   Busan|     Dongnae-gu| TRUE|       Onchun Church|       34| 35.21628|  129.0771|\n|     10|   Busan|from other city| TRUE|  Shincheonji Church|       10|        -|         -|\n|     11|   Busan|     Suyeong-gu| TRUE|Suyeong-gu Kinder...|        6| 35.16708|  129.1124|\n|     12|   Busan|    Haeundae-gu| TRUE|Haeundae-gu Catho...|        6| 35.20599|  129.1256|\n|     13|   Busan|         Jin-gu| TRUE|      Jin-gu Academy|        4| 35.17371|  129.0633|\n|     14|   Busan|from other city| TRUE|Cheongdo Daenam H...|        1|        -|         -|\n|     15|   Busan|              -|FALSE|                 etc|       29|        -|         -|\n|     16|   Daegu|         Nam-gu| TRUE|  Shincheonji Church|     4126| 35.84008|  128.5667|\n|     17|   Daegu|              -|FALSE|contact with patient|      680|        -|         -|\n|     18|   Daegu|from other city| TRUE|Cheongdo Daenam H...|        2|        -|         -|\n|     19|   Daegu|              -|FALSE|                 etc|     1059|        -|         -|\n|     20| Incheon|from other city| TRUE| Guro-gu Call Center|       15|        -|         -|\n+-------+--------+---------------+-----+--------------------+---------+---------+----------+\nonly showing top 20 rows\n\n"
     ]
    }
   ],
   "source": [
    "df1.show()"
   ]
  },
  {
   "cell_type": "code",
   "execution_count": 0,
   "metadata": {
    "application/vnd.databricks.v1+cell": {
     "cellMetadata": {
      "byteLimit": 2048000,
      "rowLimit": 10000
     },
     "inputWidgets": {},
     "nuid": "bec4bcc3-9b7a-4deb-ac92-468575bcfa56",
     "showTitle": false,
     "title": ""
    }
   },
   "outputs": [
    {
     "output_type": "stream",
     "name": "stdout",
     "output_type": "stream",
     "text": [
      "+----------+------+----------+-------+-------------------+-------+-----+--------------------+---------------+-----------+--------------+--------------+-------------+-------------+--------+\n|patient_id|   sex|birth_year|country|             region|disease|group|    infection_reason|infection_order|infected_by|contact_number|confirmed_date|released_date|deceased_date|   state|\n+----------+------+----------+-------+-------------------+-------+-----+--------------------+---------------+-----------+--------------+--------------+-------------+-------------+--------+\n|         1|female|      1984|  China|filtered at airport|   null| null|      visit to Wuhan|              1|       null|            45|    2020-01-20|   2020-02-06|         null|released|\n|         2|  male|      1964|  Korea|filtered at airport|   null| null|      visit to Wuhan|              1|       null|            75|    2020-01-24|   2020-02-05|         null|released|\n|         3|  male|      1966|  Korea|       capital area|   null| null|      visit to Wuhan|              1|       null|            16|    2020-01-26|   2020-02-12|         null|released|\n|         4|  male|      1964|  Korea|       capital area|   null| null|      visit to Wuhan|              1|       null|            95|    2020-01-27|   2020-02-09|         null|released|\n|         5|  male|      1987|  Korea|       capital area|   null| null|      visit to Wuhan|              1|       null|            31|    2020-01-30|   2020-03-02|         null|released|\n|         6|  male|      1964|  Korea|       capital area|   null| null|contact with patient|              2|          3|            17|    2020-01-30|   2020-02-19|         null|released|\n|         7|  male|      1991|  Korea|       capital area|   null| null|      visit to Wuhan|              1|       null|             9|    2020-01-30|   2020-02-15|         null|released|\n|         8|female|      1957|  Korea|       Jeollabuk-do|   null| null|      visit to Wuhan|              1|       null|           113|    2020-01-31|   2020-02-12|         null|released|\n|         9|female|      1992|  Korea|       capital area|   null| null|contact with patient|              2|          5|             2|    2020-01-31|   2020-02-24|         null|released|\n|        10|female|      1966|  Korea|       capital area|   null| null|contact with patient|              3|          6|            43|    2020-01-31|   2020-02-19|         null|released|\n|        11|  male|      1995|  Korea|       capital area|   null| null|contact with patient|              3|          6|             0|    2020-01-31|   2020-02-10|         null|released|\n|        12|  male|      1971|  China|       capital area|   null| null|contact with pati...|              2|       null|           422|    2020-02-01|   2020-02-18|         null|released|\n|        13|  male|      1992|  Korea|filtered at airport|   null| null|  residence in Wuhan|              1|       null|             0|    2020-02-02|   2020-02-24|         null|released|\n|        14|female|      1980|  China|       capital area|   null| null|contact with patient|              3|         12|             3|    2020-02-02|   2020-02-18|         null|released|\n|        15|  male|      1977|  Korea|       capital area|   null| null|contact with patient|              2|          4|            15|    2020-02-02|   2020-02-24|         null|released|\n|        16|female|      1977|  Korea|            Gwangju|   null| null|   visit to Thailand|              1|       null|           450|    2020-02-04|   2020-02-19|         null|released|\n|        17|  male|      1982|  Korea|       capital area|   null| null|contact with pati...|              2|       null|           290|    2020-02-05|   2020-02-12|         null|released|\n|        18|female|      1999|  Korea|            Gwangju|   null| null|contact with patient|              2|         16|             8|    2020-02-05|   2020-02-19|         null|released|\n|        19|  male|      1983|  Korea|       capital area|   null| null|contact with pati...|              2|       null|            68|    2020-02-05|   2020-02-21|         null|released|\n|        20|female|      1978|  Korea|       capital area|   null| null|contact with patient|              3|         15|             2|    2020-02-05|   2020-02-24|         null|released|\n+----------+------+----------+-------+-------------------+-------+-----+--------------------+---------------+-----------+--------------+--------------+-------------+-------------+--------+\nonly showing top 20 rows\n\n"
     ]
    }
   ],
   "source": [
    "df2.show()"
   ]
  },
  {
   "cell_type": "code",
   "execution_count": 0,
   "metadata": {
    "application/vnd.databricks.v1+cell": {
     "cellMetadata": {
      "byteLimit": 2048000,
      "rowLimit": 10000
     },
     "inputWidgets": {},
     "nuid": "fc62a987-d5c8-4109-8604-c7d437cc4135",
     "showTitle": false,
     "title": ""
    }
   },
   "outputs": [
    {
     "output_type": "stream",
     "name": "stdout",
     "output_type": "stream",
     "text": [
      "root\n |-- patient_id: string (nullable = true)\n |-- sex: string (nullable = true)\n |-- birth_year: string (nullable = true)\n |-- country: string (nullable = true)\n |-- region: string (nullable = true)\n |-- disease: string (nullable = true)\n |-- group: string (nullable = true)\n |-- infection_reason: string (nullable = true)\n |-- infection_order: string (nullable = true)\n |-- infected_by: string (nullable = true)\n |-- contact_number: string (nullable = true)\n |-- confirmed_date: string (nullable = true)\n |-- released_date: string (nullable = true)\n |-- deceased_date: string (nullable = true)\n |-- state: string (nullable = true)\n\n"
     ]
    }
   ],
   "source": [
    "df2.printSchema()"
   ]
  },
  {
   "cell_type": "code",
   "execution_count": 0,
   "metadata": {
    "application/vnd.databricks.v1+cell": {
     "cellMetadata": {
      "byteLimit": 2048000,
      "rowLimit": 10000
     },
     "inputWidgets": {},
     "nuid": "dbd5829c-b61f-4049-89de-61d4721509a0",
     "showTitle": false,
     "title": ""
    }
   },
   "outputs": [
    {
     "output_type": "stream",
     "name": "stdout",
     "output_type": "stream",
     "text": [
      "root\n |-- case_id: string (nullable = true)\n |-- province: string (nullable = true)\n |-- city: string (nullable = true)\n |-- group: string (nullable = true)\n |-- infection_case: string (nullable = true)\n |-- confirmed: string (nullable = true)\n |-- latitude: string (nullable = true)\n |-- longitude: string (nullable = true)\n\n"
     ]
    }
   ],
   "source": [
    "df1.printSchema()"
   ]
  },
  {
   "cell_type": "code",
   "execution_count": 0,
   "metadata": {
    "application/vnd.databricks.v1+cell": {
     "cellMetadata": {
      "byteLimit": 2048000,
      "rowLimit": 10000
     },
     "inputWidgets": {},
     "nuid": "1d155302-a955-48a2-b30a-4f6afdb15adc",
     "showTitle": false,
     "title": ""
    }
   },
   "outputs": [
    {
     "output_type": "stream",
     "name": "stdout",
     "output_type": "stream",
     "text": [
      "Out[81]: (['case_id',\n  'province',\n  'city',\n  'group',\n  'infection_case',\n  'confirmed',\n  'latitude',\n  'longitude'],\n ['patient_id',\n  'sex',\n  'birth_year',\n  'country',\n  'region',\n  'disease',\n  'group',\n  'infection_reason',\n  'infection_order',\n  'infected_by',\n  'contact_number',\n  'confirmed_date',\n  'released_date',\n  'deceased_date',\n  'state'])"
     ]
    }
   ],
   "source": [
    "df1.columns,df2.columns"
   ]
  },
  {
   "cell_type": "markdown",
   "metadata": {
    "application/vnd.databricks.v1+cell": {
     "cellMetadata": {
      "byteLimit": 2048000,
      "rowLimit": 10000
     },
     "inputWidgets": {},
     "nuid": "ff879ebe-ec66-4c88-b920-d9c728346ccc",
     "showTitle": false,
     "title": ""
    }
   },
   "source": [
    "3) Selecting subsets of columns"
   ]
  },
  {
   "cell_type": "code",
   "execution_count": 0,
   "metadata": {
    "application/vnd.databricks.v1+cell": {
     "cellMetadata": {
      "byteLimit": 2048000,
      "rowLimit": 10000
     },
     "inputWidgets": {},
     "nuid": "f819b04e-5b1b-4359-8297-e5e3dabf6729",
     "showTitle": false,
     "title": ""
    }
   },
   "outputs": [],
   "source": [
    "new_cases=df1.select(['case_id',\n",
    "  'province',\n",
    "  'city',\n",
    "  'group',\n",
    "  'infection_case',\n",
    "  'confirmed'])\n"
   ]
  },
  {
   "cell_type": "code",
   "execution_count": 0,
   "metadata": {
    "application/vnd.databricks.v1+cell": {
     "cellMetadata": {
      "byteLimit": 2048000,
      "rowLimit": 10000
     },
     "inputWidgets": {},
     "nuid": "9a647c9f-b1c6-4d42-878f-7d2a42e178c3",
     "showTitle": false,
     "title": ""
    }
   },
   "outputs": [
    {
     "output_type": "stream",
     "name": "stdout",
     "output_type": "stream",
     "text": [
      "+-------+--------+---------------+-----+--------------------+---------+\n|case_id|province|           city|group|      infection_case|confirmed|\n+-------+--------+---------------+-----+--------------------+---------+\n|      1|   Seoul|        Guro-gu| TRUE| Guro-gu Call Center|       70|\n|      2|   Seoul|   Eunpyeong-gu| TRUE|Eunpyeong St. Mar...|       14|\n|      3|   Seoul|   Seongdong-gu| TRUE|    Seongdong-gu APT|       13|\n|      4|   Seoul|      Jongno-gu| TRUE|Jongno Community ...|       10|\n|      5|   Seoul|  Dongdaemun-gu| TRUE|       Dongan Church|        9|\n|      6|   Seoul|        Jung-gu| TRUE|Jung-gu Fashion C...|        7|\n|      7|   Seoul|from other city| TRUE|  Shincheonji Church|        6|\n|      8|   Seoul|              -|FALSE|                 etc|       46|\n|      9|   Busan|     Dongnae-gu| TRUE|       Onchun Church|       34|\n|     10|   Busan|from other city| TRUE|  Shincheonji Church|       10|\n|     11|   Busan|     Suyeong-gu| TRUE|Suyeong-gu Kinder...|        6|\n|     12|   Busan|    Haeundae-gu| TRUE|Haeundae-gu Catho...|        6|\n|     13|   Busan|         Jin-gu| TRUE|      Jin-gu Academy|        4|\n|     14|   Busan|from other city| TRUE|Cheongdo Daenam H...|        1|\n|     15|   Busan|              -|FALSE|                 etc|       29|\n|     16|   Daegu|         Nam-gu| TRUE|  Shincheonji Church|     4126|\n|     17|   Daegu|              -|FALSE|contact with patient|      680|\n|     18|   Daegu|from other city| TRUE|Cheongdo Daenam H...|        2|\n|     19|   Daegu|              -|FALSE|                 etc|     1059|\n|     20| Incheon|from other city| TRUE| Guro-gu Call Center|       15|\n+-------+--------+---------------+-----+--------------------+---------+\nonly showing top 20 rows\n\n"
     ]
    }
   ],
   "source": [
    "new_cases.show()"
   ]
  },
  {
   "cell_type": "code",
   "execution_count": 0,
   "metadata": {
    "application/vnd.databricks.v1+cell": {
     "cellMetadata": {
      "byteLimit": 2048000,
      "rowLimit": 10000
     },
     "inputWidgets": {},
     "nuid": "f17cf6c6-c49e-4aec-b3cb-4292fb7879a2",
     "showTitle": false,
     "title": ""
    }
   },
   "outputs": [],
   "source": [
    "new_patients=df2.select(['patient_id',\n",
    "  'country',\n",
    "  'region',\n",
    "  'disease',\n",
    "  'contact_number',\n",
    "  'confirmed_date',\n",
    "  'released_date',\n",
    "  'deceased_date'])"
   ]
  },
  {
   "cell_type": "code",
   "execution_count": 0,
   "metadata": {
    "application/vnd.databricks.v1+cell": {
     "cellMetadata": {
      "byteLimit": 2048000,
      "rowLimit": 10000
     },
     "inputWidgets": {},
     "nuid": "af6cc134-133c-4bae-a6b1-0a1ceaa48953",
     "showTitle": false,
     "title": ""
    }
   },
   "outputs": [
    {
     "output_type": "stream",
     "name": "stdout",
     "output_type": "stream",
     "text": [
      "+----------+-------+-------------------+-------+--------------+--------------+-------------+-------------+\n|patient_id|country|             region|disease|contact_number|confirmed_date|released_date|deceased_date|\n+----------+-------+-------------------+-------+--------------+--------------+-------------+-------------+\n|         1|  China|filtered at airport|   null|            45|    2020-01-20|   2020-02-06|         null|\n|         2|  Korea|filtered at airport|   null|            75|    2020-01-24|   2020-02-05|         null|\n|         3|  Korea|       capital area|   null|            16|    2020-01-26|   2020-02-12|         null|\n|         4|  Korea|       capital area|   null|            95|    2020-01-27|   2020-02-09|         null|\n|         5|  Korea|       capital area|   null|            31|    2020-01-30|   2020-03-02|         null|\n|         6|  Korea|       capital area|   null|            17|    2020-01-30|   2020-02-19|         null|\n|         7|  Korea|       capital area|   null|             9|    2020-01-30|   2020-02-15|         null|\n|         8|  Korea|       Jeollabuk-do|   null|           113|    2020-01-31|   2020-02-12|         null|\n|         9|  Korea|       capital area|   null|             2|    2020-01-31|   2020-02-24|         null|\n|        10|  Korea|       capital area|   null|            43|    2020-01-31|   2020-02-19|         null|\n|        11|  Korea|       capital area|   null|             0|    2020-01-31|   2020-02-10|         null|\n|        12|  China|       capital area|   null|           422|    2020-02-01|   2020-02-18|         null|\n|        13|  Korea|filtered at airport|   null|             0|    2020-02-02|   2020-02-24|         null|\n|        14|  China|       capital area|   null|             3|    2020-02-02|   2020-02-18|         null|\n|        15|  Korea|       capital area|   null|            15|    2020-02-02|   2020-02-24|         null|\n|        16|  Korea|            Gwangju|   null|           450|    2020-02-04|   2020-02-19|         null|\n|        17|  Korea|       capital area|   null|           290|    2020-02-05|   2020-02-12|         null|\n|        18|  Korea|            Gwangju|   null|             8|    2020-02-05|   2020-02-19|         null|\n|        19|  Korea|       capital area|   null|            68|    2020-02-05|   2020-02-21|         null|\n|        20|  Korea|       capital area|   null|             2|    2020-02-05|   2020-02-24|         null|\n+----------+-------+-------------------+-------+--------------+--------------+-------------+-------------+\nonly showing top 20 rows\n\n"
     ]
    }
   ],
   "source": [
    "new_patients.show()"
   ]
  },
  {
   "cell_type": "markdown",
   "metadata": {
    "application/vnd.databricks.v1+cell": {
     "cellMetadata": {
      "byteLimit": 2048000,
      "rowLimit": 10000
     },
     "inputWidgets": {},
     "nuid": "ae25129a-7e0d-4d4a-995b-aeee5742c590",
     "showTitle": false,
     "title": ""
    }
   },
   "source": [
    "4) Renaming column name"
   ]
  },
  {
   "cell_type": "code",
   "execution_count": 0,
   "metadata": {
    "application/vnd.databricks.v1+cell": {
     "cellMetadata": {
      "byteLimit": 2048000,
      "rowLimit": 10000
     },
     "inputWidgets": {},
     "nuid": "758bf8ef-b103-4f15-82fc-d9902edf7da4",
     "showTitle": false,
     "title": ""
    }
   },
   "outputs": [
    {
     "output_type": "stream",
     "name": "stdout",
     "output_type": "stream",
     "text": [
      "+-------+--------+---------------+-----+--------------------+---------------+\n|case_id|province|           city|group|      infection_case|cases_confirmed|\n+-------+--------+---------------+-----+--------------------+---------------+\n|      1|   Seoul|        Guro-gu| TRUE| Guro-gu Call Center|             70|\n|      2|   Seoul|   Eunpyeong-gu| TRUE|Eunpyeong St. Mar...|             14|\n|      3|   Seoul|   Seongdong-gu| TRUE|    Seongdong-gu APT|             13|\n|      4|   Seoul|      Jongno-gu| TRUE|Jongno Community ...|             10|\n|      5|   Seoul|  Dongdaemun-gu| TRUE|       Dongan Church|              9|\n|      6|   Seoul|        Jung-gu| TRUE|Jung-gu Fashion C...|              7|\n|      7|   Seoul|from other city| TRUE|  Shincheonji Church|              6|\n|      8|   Seoul|              -|FALSE|                 etc|             46|\n|      9|   Busan|     Dongnae-gu| TRUE|       Onchun Church|             34|\n|     10|   Busan|from other city| TRUE|  Shincheonji Church|             10|\n|     11|   Busan|     Suyeong-gu| TRUE|Suyeong-gu Kinder...|              6|\n|     12|   Busan|    Haeundae-gu| TRUE|Haeundae-gu Catho...|              6|\n|     13|   Busan|         Jin-gu| TRUE|      Jin-gu Academy|              4|\n|     14|   Busan|from other city| TRUE|Cheongdo Daenam H...|              1|\n|     15|   Busan|              -|FALSE|                 etc|             29|\n|     16|   Daegu|         Nam-gu| TRUE|  Shincheonji Church|           4126|\n|     17|   Daegu|              -|FALSE|contact with patient|            680|\n|     18|   Daegu|from other city| TRUE|Cheongdo Daenam H...|              2|\n|     19|   Daegu|              -|FALSE|                 etc|           1059|\n|     20| Incheon|from other city| TRUE| Guro-gu Call Center|             15|\n+-------+--------+---------------+-----+--------------------+---------------+\nonly showing top 20 rows\n\n"
     ]
    }
   ],
   "source": [
    "renamed_col=new_cases.withColumnRenamed(\"confirmed\",\"cases_confirmed\")\n",
    "renamed_col.show()"
   ]
  },
  {
   "cell_type": "markdown",
   "metadata": {
    "application/vnd.databricks.v1+cell": {
     "cellMetadata": {
      "byteLimit": 2048000,
      "rowLimit": 10000
     },
     "inputWidgets": {},
     "nuid": "9c17c759-ab0c-4616-a8ec-4939fa25779d",
     "showTitle": false,
     "title": ""
    }
   },
   "source": [
    "5) Sorting Data"
   ]
  },
  {
   "cell_type": "code",
   "execution_count": 0,
   "metadata": {
    "application/vnd.databricks.v1+cell": {
     "cellMetadata": {
      "byteLimit": 2048000,
      "rowLimit": 10000
     },
     "inputWidgets": {},
     "nuid": "15d13920-9621-4024-86dd-997862747bdc",
     "showTitle": false,
     "title": ""
    }
   },
   "outputs": [
    {
     "output_type": "stream",
     "name": "stdout",
     "output_type": "stream",
     "text": [
      "+-------+-----------------+---------------+-----+--------------------+---------+\n|case_id|         province|           city|group|      infection_case|confirmed|\n+-------+-----------------+---------------+-----+--------------------+---------+\n|     14|            Busan|from other city| TRUE|Cheongdo Daenam H...|        1|\n|     23|          Incheon|              -|FALSE|     overseas inflow|        1|\n|     26|          Gwangju|              -|FALSE|     overseas inflow|        1|\n|     36|           Sejong|from other city| TRUE|  Shincheonji Church|        1|\n|     53|Chungcheongnam-do|              -|FALSE|                 etc|        1|\n|     55|     Jeollabuk-do|from other city| TRUE|  Shincheonji Church|        1|\n|     56|     Jeollabuk-do|              -|FALSE|     overseas inflow|        1|\n|     58|     Jeollanam-do|from other city| TRUE|  Shincheonji Church|        1|\n|     59|     Jeollanam-do|              -|FALSE|     overseas inflow|        1|\n|     60|     Jeollanam-do|              -|FALSE|contact with patient|        1|\n|     61|     Jeollanam-do|              -|FALSE|                 etc|        1|\n|     72| Gyeongsangnam-do|   Geochang-gun| TRUE|     Geochang Church|       10|\n|     41|      Gyeonggi-do|       Suwon-si| TRUE|Suwon Saeng Myeon...|       10|\n|     46|       Gangwon-do|              -|FALSE|                 etc|       10|\n|     47|Chungcheongbuk-do|from other city| TRUE|  Shincheonji Church|       10|\n|      4|            Seoul|      Jongno-gu| TRUE|Jongno Community ...|       10|\n|     30|          Daejeon|              -|FALSE|                 etc|       10|\n|     10|            Busan|from other city| TRUE|  Shincheonji Church|       10|\n|     51|Chungcheongnam-do|     Cheonan-si| TRUE|                 gym|      105|\n|     19|            Daegu|              -|FALSE|                 etc|     1059|\n+-------+-----------------+---------------+-----+--------------------+---------+\nonly showing top 20 rows\n\n"
     ]
    }
   ],
   "source": [
    "# x=sorted(new_cases.select(\"confirmed\"))\n",
    "new_cases.sort(\"confirmed\").show()"
   ]
  },
  {
   "cell_type": "markdown",
   "metadata": {
    "application/vnd.databricks.v1+cell": {
     "cellMetadata": {
      "byteLimit": 2048000,
      "rowLimit": 10000
     },
     "inputWidgets": {},
     "nuid": "7b066416-53a1-4652-bb3e-512f8008c379",
     "showTitle": false,
     "title": ""
    }
   },
   "source": [
    "Typecast"
   ]
  },
  {
   "cell_type": "code",
   "execution_count": 0,
   "metadata": {
    "application/vnd.databricks.v1+cell": {
     "cellMetadata": {
      "byteLimit": 2048000,
      "rowLimit": 10000
     },
     "inputWidgets": {},
     "nuid": "62f14c86-6171-4453-bd51-24b7caf2b088",
     "showTitle": false,
     "title": ""
    }
   },
   "outputs": [
    {
     "output_type": "stream",
     "name": "stdout",
     "output_type": "stream",
     "text": [
      "Out[88]: DataFrame[summary: string, patient_id: string, country: string, region: string, disease: string, contact_number: string, confirmed_date: string, released_date: string, deceased_date: string]"
     ]
    }
   ],
   "source": [
    "new_patients.describe()"
   ]
  },
  {
   "cell_type": "code",
   "execution_count": 0,
   "metadata": {
    "application/vnd.databricks.v1+cell": {
     "cellMetadata": {
      "byteLimit": 2048000,
      "rowLimit": 10000
     },
     "inputWidgets": {},
     "nuid": "96b8f16d-5bda-402b-b04f-eaa552a14c02",
     "showTitle": false,
     "title": ""
    }
   },
   "outputs": [
    {
     "output_type": "stream",
     "name": "stdout",
     "output_type": "stream",
     "text": [
      "Out[89]: DataFrame[patient_id: string, country: string, region: string, disease: string, contact_number: date, confirmed_date: date, released_date: date, deceased_date: date]"
     ]
    }
   ],
   "source": [
    "new_patients.withColumn(\"contact_number\",new_patients.contact_number.cast('date')).withColumn(\"deceased_date\",new_patients.deceased_date.cast('date')).withColumn(\"confirmed_date\",new_patients.confirmed_date.cast('date')).withColumn(\"released_date\",new_patients.released_date.cast('date'))\n"
   ]
  },
  {
   "cell_type": "markdown",
   "metadata": {
    "application/vnd.databricks.v1+cell": {
     "cellMetadata": {
      "byteLimit": 2048000,
      "rowLimit": 10000
     },
     "inputWidgets": {},
     "nuid": "8af824c8-46dc-4859-850d-f9e8ebe03eb5",
     "showTitle": false,
     "title": ""
    }
   },
   "source": [
    "Filtering data"
   ]
  },
  {
   "cell_type": "code",
   "execution_count": 0,
   "metadata": {
    "application/vnd.databricks.v1+cell": {
     "cellMetadata": {
      "byteLimit": 2048000,
      "rowLimit": 10000
     },
     "inputWidgets": {},
     "nuid": "1d5b9932-dce8-4593-972c-00542d3ea8b6",
     "showTitle": false,
     "title": ""
    }
   },
   "outputs": [
    {
     "output_type": "stream",
     "name": "stdout",
     "output_type": "stream",
     "text": [
      "+-------+--------+-------+-----+-------------------+---------+\n|case_id|province|   city|group|     infection_case|confirmed|\n+-------+--------+-------+-----+-------------------+---------+\n|      1|   Seoul|Guro-gu| TRUE|Guro-gu Call Center|       70|\n+-------+--------+-------+-----+-------------------+---------+\n\n"
     ]
    }
   ],
   "source": [
    "new_cases.filter((new_cases[\"Province\"]==\"Seoul\") & (new_cases[\"confirmed\"]>50)).show()"
   ]
  },
  {
   "cell_type": "markdown",
   "metadata": {
    "application/vnd.databricks.v1+cell": {
     "cellMetadata": {
      "byteLimit": 2048000,
      "rowLimit": 10000
     },
     "inputWidgets": {},
     "nuid": "f1cd7735-bbae-4df4-a916-88fc5a875752",
     "showTitle": false,
     "title": ""
    }
   },
   "source": [
    "Group by"
   ]
  },
  {
   "cell_type": "code",
   "execution_count": 0,
   "metadata": {
    "application/vnd.databricks.v1+cell": {
     "cellMetadata": {
      "byteLimit": 2048000,
      "rowLimit": 10000
     },
     "inputWidgets": {},
     "nuid": "73d9d4d7-7380-45fd-8758-f01c34290c5d",
     "showTitle": false,
     "title": ""
    }
   },
   "outputs": [
    {
     "output_type": "stream",
     "name": "stdout",
     "output_type": "stream",
     "text": [
      "Out[91]: DataFrame[summary: string, case_id: string, province: string, city: string, group: string, infection_case: string, confirmed: string]"
     ]
    }
   ],
   "source": [
    "new_cases.describe()\n"
   ]
  },
  {
   "cell_type": "code",
   "execution_count": 0,
   "metadata": {
    "application/vnd.databricks.v1+cell": {
     "cellMetadata": {
      "byteLimit": 2048000,
      "rowLimit": 10000
     },
     "inputWidgets": {},
     "nuid": "dbf636c7-8a21-44bd-959c-42010ee875b7",
     "showTitle": false,
     "title": ""
    }
   },
   "outputs": [],
   "source": [
    "x=new_cases.withColumn(\"confirmed\",new_cases.confirmed.cast(\"integer\"))"
   ]
  },
  {
   "cell_type": "code",
   "execution_count": 0,
   "metadata": {
    "application/vnd.databricks.v1+cell": {
     "cellMetadata": {
      "byteLimit": 2048000,
      "rowLimit": 10000
     },
     "inputWidgets": {},
     "nuid": "4e472b7f-2996-4c4c-a3dd-8b0618852e39",
     "showTitle": false,
     "title": ""
    }
   },
   "outputs": [
    {
     "output_type": "stream",
     "name": "stdout",
     "output_type": "stream",
     "text": [
      "+-----------------+--------------+\n|         Province|sum(confirmed)|\n+-----------------+--------------+\n|           Sejong|            19|\n|            Ulsan|            25|\n|Chungcheongbuk-do|            27|\n|       Gangwon-do|            29|\n|          Gwangju|            15|\n| Gyeongsangbuk-do|          1125|\n|            Daegu|          5867|\n| Gyeongsangnam-do|            85|\n|          Incheon|            25|\n|          Jeju-do|             4|\n|      Gyeonggi-do|           113|\n|            Busan|            90|\n|          Daejeon|            20|\n|            Seoul|           175|\n|Chungcheongnam-do|           114|\n|     Jeollabuk-do|             7|\n|     Jeollanam-do|             4|\n+-----------------+--------------+\n\n"
     ]
    }
   ],
   "source": [
    "y=x.groupBy(\"Province\").sum(\"confirmed\").show()"
   ]
  },
  {
   "cell_type": "markdown",
   "metadata": {
    "application/vnd.databricks.v1+cell": {
     "cellMetadata": {
      "byteLimit": 2048000,
      "rowLimit": 10000
     },
     "inputWidgets": {},
     "nuid": "82ccd040-d01c-4fcd-baf8-be689f3fff71",
     "showTitle": false,
     "title": ""
    }
   },
   "source": [
    "Join"
   ]
  },
  {
   "cell_type": "code",
   "execution_count": 0,
   "metadata": {
    "application/vnd.databricks.v1+cell": {
     "cellMetadata": {
      "byteLimit": 2048000,
      "rowLimit": 10000
     },
     "inputWidgets": {},
     "nuid": "4bdb24c3-556b-4b20-9335-a0a4ffebc088",
     "showTitle": false,
     "title": ""
    }
   },
   "outputs": [
    {
     "output_type": "stream",
     "name": "stdout",
     "output_type": "stream",
     "text": [
      "+-------+--------+---------------+-----+--------------------+---------+----------+-------+------+-------+--------------+--------------+-------------+-------------+\n|case_id|province|           city|group|      infection_case|confirmed|patient_id|country|region|disease|contact_number|confirmed_date|released_date|deceased_date|\n+-------+--------+---------------+-----+--------------------+---------+----------+-------+------+-------+--------------+--------------+-------------+-------------+\n|      1|   Seoul|        Guro-gu| TRUE| Guro-gu Call Center|       70|      null|   null|  null|   null|          null|          null|         null|         null|\n|      2|   Seoul|   Eunpyeong-gu| TRUE|Eunpyeong St. Mar...|       14|      null|   null|  null|   null|          null|          null|         null|         null|\n|      3|   Seoul|   Seongdong-gu| TRUE|    Seongdong-gu APT|       13|      null|   null|  null|   null|          null|          null|         null|         null|\n|      4|   Seoul|      Jongno-gu| TRUE|Jongno Community ...|       10|      null|   null|  null|   null|          null|          null|         null|         null|\n|      5|   Seoul|  Dongdaemun-gu| TRUE|       Dongan Church|        9|      null|   null|  null|   null|          null|          null|         null|         null|\n|      6|   Seoul|        Jung-gu| TRUE|Jung-gu Fashion C...|        7|      null|   null|  null|   null|          null|          null|         null|         null|\n|      7|   Seoul|from other city| TRUE|  Shincheonji Church|        6|      null|   null|  null|   null|          null|          null|         null|         null|\n|      8|   Seoul|              -|FALSE|                 etc|       46|      null|   null|  null|   null|          null|          null|         null|         null|\n|      9|   Busan|     Dongnae-gu| TRUE|       Onchun Church|       34|      null|   null|  null|   null|          null|          null|         null|         null|\n|     10|   Busan|from other city| TRUE|  Shincheonji Church|       10|      null|   null|  null|   null|          null|          null|         null|         null|\n|     11|   Busan|     Suyeong-gu| TRUE|Suyeong-gu Kinder...|        6|      null|   null|  null|   null|          null|          null|         null|         null|\n|     12|   Busan|    Haeundae-gu| TRUE|Haeundae-gu Catho...|        6|      null|   null|  null|   null|          null|          null|         null|         null|\n|     13|   Busan|         Jin-gu| TRUE|      Jin-gu Academy|        4|      null|   null|  null|   null|          null|          null|         null|         null|\n|     14|   Busan|from other city| TRUE|Cheongdo Daenam H...|        1|      null|   null|  null|   null|          null|          null|         null|         null|\n|     15|   Busan|              -|FALSE|                 etc|       29|      null|   null|  null|   null|          null|          null|         null|         null|\n|     16|   Daegu|         Nam-gu| TRUE|  Shincheonji Church|     4126|      null|   null|  null|   null|          null|          null|         null|         null|\n|     17|   Daegu|              -|FALSE|contact with patient|      680|      null|   null|  null|   null|          null|          null|         null|         null|\n|     18|   Daegu|from other city| TRUE|Cheongdo Daenam H...|        2|      null|   null|  null|   null|          null|          null|         null|         null|\n|     19|   Daegu|              -|FALSE|                 etc|     1059|      null|   null|  null|   null|          null|          null|         null|         null|\n|     20| Incheon|from other city| TRUE| Guro-gu Call Center|       15|      null|   null|  null|   null|          null|          null|         null|         null|\n+-------+--------+---------------+-----+--------------------+---------+----------+-------+------+-------+--------------+--------------+-------------+-------------+\nonly showing top 20 rows\n\n"
     ]
    }
   ],
   "source": [
    "# joined_df=new_cases.join(new_patients,new_cases.confirmed==new_patients.region,\"inner\")\\\n",
    "#     .show()\n"
   ]
  }
 ],
 "metadata": {
  "application/vnd.databricks.v1+notebook": {
   "dashboards": [],
   "language": "python",
   "notebookMetadata": {
    "pythonIndentUnit": 4
   },
   "notebookName": "PySpark Covid project",
   "widgets": {}
  }
 },
 "nbformat": 4,
 "nbformat_minor": 0
}
